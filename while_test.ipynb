{
 "cells": [
  {
   "cell_type": "code",
   "execution_count": 1,
   "metadata": {},
   "outputs": [],
   "source": [
    "test = '''\n",
    "contract get_fib_n(n : int){\n",
    "\n",
    "    let x: int = 0;\n",
    "\n",
    "    entry sum(n: int){\n",
    "        let a: int = 2;\n",
    "        let b: int = 3;\n",
    "        x = a + b;\n",
    "    }\n",
    "}\n",
    "'''"
   ]
  },
  {
   "cell_type": "code",
   "execution_count": 2,
   "metadata": {},
   "outputs": [
    {
     "ename": "ModuleNotFoundError",
     "evalue": "No module named 'sly'",
     "output_type": "error",
     "traceback": [
      "\u001b[0;31m---------------------------------------------------------------------------\u001b[0m",
      "\u001b[0;31mModuleNotFoundError\u001b[0m                       Traceback (most recent call last)",
      "Cell \u001b[0;32mIn[2], line 1\u001b[0m\n\u001b[0;32m----> 1\u001b[0m \u001b[39mfrom\u001b[39;00m \u001b[39mlexer\u001b[39;00m\u001b[39m.\u001b[39;00m\u001b[39msly_lexer\u001b[39;00m \u001b[39mimport\u001b[39;00m TzScriptLexer, process_lexer_tokens \n\u001b[1;32m      2\u001b[0m \u001b[39mfrom\u001b[39;00m \u001b[39mlexer\u001b[39;00m\u001b[39m.\u001b[39;00m\u001b[39mlex_token\u001b[39;00m \u001b[39mimport\u001b[39;00m Token\n\u001b[1;32m      3\u001b[0m \u001b[39mfrom\u001b[39;00m \u001b[39mparser\u001b[39;00m\u001b[39m.\u001b[39;00m\u001b[39mtzscript_grammar\u001b[39;00m \u001b[39mimport\u001b[39;00m TZSCRIPT_GRAMMAR,idx, num, typex, contract, ifx, elsex,equal, plus, minus, star, div,semi, colon, comma, dot, opar, cpar, ocur, ccur,let, func,entry,lessthanequal,greaterthanequal, iniquelaty, lessthan,greaterthan,equalequal, returnx\n",
      "File \u001b[0;32m~/DATA/Matcom/3 - Compilacion/compilation-dsl-project/lexer/sly_lexer.py:1\u001b[0m\n\u001b[0;32m----> 1\u001b[0m \u001b[39mfrom\u001b[39;00m \u001b[39msly\u001b[39;00m \u001b[39mimport\u001b[39;00m Lexer\n\u001b[1;32m      2\u001b[0m \u001b[39m# from grammar import *\u001b[39;00m\n\u001b[1;32m      3\u001b[0m \u001b[39mfrom\u001b[39;00m \u001b[39mgrammar\u001b[39;00m \u001b[39mimport\u001b[39;00m Grammar\n",
      "\u001b[0;31mModuleNotFoundError\u001b[0m: No module named 'sly'"
     ]
    }
   ],
   "source": [
    "from lexer.sly_lexer import TzScriptLexer, process_lexer_tokens \n",
    "from lexer.lex_token import Token\n",
    "from parser.tzscript_grammar import TZSCRIPT_GRAMMAR,idx, num, typex, contract, ifx, elsex,equal, plus, minus, star, div,semi, colon, comma, dot, opar, cpar, ocur, ccur,let, func,entry,lessthanequal,greaterthanequal, iniquelaty, lessthan,greaterthan,equalequal, returnx\n",
    "from parser.slr_parser import SLR1Parser, build_slr_ast\n",
    "\n",
    "lexer = TzScriptLexer()\n",
    "lexer_tokens = list(lexer.tokenize(test))\n",
    "tokens = process_lexer_tokens(lexer_tokens)\n",
    "\n",
    "parser = SLR1Parser(TZSCRIPT_GRAMMAR, verbose=True)\n",
    "\n",
    "terminals = [token.token_type for token in tokens]\n",
    "derivation = parser(terminals, True)"
   ]
  },
  {
   "cell_type": "code",
   "execution_count": null,
   "metadata": {},
   "outputs": [],
   "source": [
    "productions, operations = derivation\n"
   ]
  },
  {
   "cell_type": "code",
   "execution_count": null,
   "metadata": {},
   "outputs": [],
   "source": [
    "ast = build_slr_ast(productions, operations, tokens)"
   ]
  },
  {
   "cell_type": "code",
   "execution_count": null,
   "metadata": {},
   "outputs": [
    {
     "data": {
      "text/plain": [
       "'\\\\__ProgramNode: contract node.idx(n : int) [<stat>; ... <stat>;]\\n\\t\\\\__AttrDeclarationNode: n : int\\n\\t\\t\\\\__VarDeclarationNode: let x = <expr> : int\\n\\t\\t\\t\\\\__ ConstantNumNode: 0\\n\\t\\t\\\\__EntryDeclarationNode: Entry sum(n : int)\\n\\t\\t\\t\\\\__AttrDeclarationNode: n : int\\n\\t\\t\\t\\t\\\\__VarDeclarationNode: let a = <expr> : int\\n\\t\\t\\t\\t\\t\\\\__ ConstantNumNode: 2\\n\\t\\t\\t\\t\\\\__VarDeclarationNode: let b = <expr> : int\\n\\t\\t\\t\\t\\t\\\\__ ConstantNumNode: 3\\n\\t\\t\\t\\t\\\\__VarCallNode: x = <expr>\\n\\t\\t\\t\\t\\t\\\\__<expr> PlusNode <expr>\\n\\t\\t\\t\\t\\t\\t\\\\__ VariableNode: a\\n\\t\\t\\t\\t\\t\\t\\\\__ VariableNode: b'"
      ]
     },
     "execution_count": 5,
     "metadata": {},
     "output_type": "execute_result"
    }
   ],
   "source": [
    "from visitors.string_rep_visitor import FormatVisitor\n",
    "format = FormatVisitor()\n",
    "format.visit(ast)"
   ]
  },
  {
   "cell_type": "code",
   "execution_count": null,
   "metadata": {},
   "outputs": [],
   "source": []
  },
  {
   "cell_type": "code",
   "execution_count": null,
   "metadata": {},
   "outputs": [],
   "source": [
    "from visitors.high_level_ir_generator_visitor import TzScriptToHighLevelIrVisitor\n",
    "high_level_ir = TzScriptToHighLevelIrVisitor()"
   ]
  },
  {
   "cell_type": "code",
   "execution_count": null,
   "metadata": {},
   "outputs": [
    {
     "name": "stdout",
     "output_type": "stream",
     "text": [
      "mirame\n",
      "mirame\n"
     ]
    }
   ],
   "source": [
    "from visitors.hl_string_repre import HLReprVisitor\n",
    "hl_repr = HLReprVisitor()\n",
    "ir = high_level_ir.visit(ast)"
   ]
  },
  {
   "cell_type": "code",
   "execution_count": null,
   "metadata": {},
   "outputs": [
    {
     "name": "stdout",
     "output_type": "stream",
     "text": [
      "contract { entrypoint{...} storage{...} code{...}} \n",
      "\tentrypoint  { <id,params> , <id,params> , ... , <id,params> }\n",
      "\t\t\\__EntryPointDeclarationNode: sum ([<parser.tzscript_ast.AttrDeclarationNode object at 0x7f50f6824510>])\n",
      "\tstorage { <id,type> , <id,type> , ... , <id,type> }\n",
      "\t\t\\__StorageDeclarationNode: x : int\n",
      "\tcode { <stat> , <stat> , ... , <stat> }\n",
      "\t\t\\__IfEntryNode: if sum then  else \n",
      "\t\t\t\\__PushValueNode: push num 2\n",
      "\t\t\t\\__PushVariableNode: push int a\n",
      "\t\t\t\\__PushValueNode: push num 3\n",
      "\t\t\t\\__PushVariableNode: push int b\n"
     ]
    }
   ],
   "source": [
    "print(hl_repr.visit(ir))"
   ]
  },
  {
   "cell_type": "code",
   "execution_count": null,
   "metadata": {},
   "outputs": [
    {
     "name": "stdout",
     "output_type": "stream",
     "text": [
      "sum\n"
     ]
    }
   ],
   "source": [
    "for x in ir.entrypoints.entrypoint_list:\n",
    "    print(x.id)"
   ]
  },
  {
   "cell_type": "code",
   "execution_count": null,
   "metadata": {},
   "outputs": [],
   "source": []
  }
 ],
 "metadata": {
  "kernelspec": {
   "display_name": "Python 3.11.1 64-bit",
   "language": "python",
   "name": "python3"
  },
  "language_info": {
   "codemirror_mode": {
    "name": "ipython",
    "version": 3
   },
   "file_extension": ".py",
   "mimetype": "text/x-python",
   "name": "python",
   "nbconvert_exporter": "python",
   "pygments_lexer": "ipython3",
   "version": "3.10.9"
  },
  "orig_nbformat": 4,
  "vscode": {
   "interpreter": {
    "hash": "e7370f93d1d0cde622a1f8e1c04877d8463912d04d973331ad4851f04de6915a"
   }
  }
 },
 "nbformat": 4,
 "nbformat_minor": 2
}
