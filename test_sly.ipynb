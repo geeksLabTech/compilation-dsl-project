{
 "cells": [
  {
   "cell_type": "code",
   "execution_count": 9,
   "metadata": {},
   "outputs": [
    {
     "name": "stdout",
     "output_type": "stream",
     "text": [
      "tokens,  [Token(type='CONTRACT', value='contract', lineno=2, index=5, end=13), Token(type='ID', value='store_value', lineno=2, index=14, end=25), Token(type='LPAREN', value='(', lineno=2, index=25, end=26), Token(type='ID', value='value', lineno=2, index=26, end=31), Token(type='COLON', value=':', lineno=2, index=31, end=32), Token(type='TYPE', value='int', lineno=2, index=33, end=36), Token(type='RPAREN', value=')', lineno=2, index=36, end=37), Token(type='LBRACE', value='{', lineno=2, index=37, end=38), Token(type='LET', value='let', lineno=4, index=44, end=47), Token(type='ID', value='storage', lineno=4, index=48, end=55), Token(type='COLON', value=':', lineno=4, index=55, end=56), Token(type='TYPE', value='int', lineno=4, index=57, end=60), Token(type='OPERATOR', value='=', lineno=4, index=61, end=62), Token(type='INTEGER', value='0', lineno=4, index=63, end=64), Token(type='SEMICOLON', value=';', lineno=4, index=64, end=65), Token(type='ENTRY', value='entry', lineno=6, index=71, end=76), Token(type='ID', value='replace', lineno=6, index=77, end=84), Token(type='LPAREN', value='(', lineno=6, index=84, end=85), Token(type='ID', value='new_value', lineno=6, index=85, end=94), Token(type='COLON', value=':', lineno=6, index=94, end=95), Token(type='TYPE', value='int', lineno=6, index=96, end=99), Token(type='RPAREN', value=')', lineno=6, index=99, end=100), Token(type='LBRACE', value='{', lineno=6, index=100, end=101), Token(type='ID', value='storage', lineno=8, index=118, end=125), Token(type='OPERATOR', value='=', lineno=8, index=126, end=127), Token(type='ID', value='new_value', lineno=8, index=128, end=137), Token(type='SEMICOLON', value=';', lineno=8, index=137, end=138), Token(type='RBRACE', value='}', lineno=9, index=143, end=144), Token(type='RBRACE', value='}', lineno=10, index=146, end=147)]\n",
      "hola\n",
      "CONTRACT\n",
      "hola\n",
      "ID\n",
      "hola\n",
      "LPAREN\n",
      "hola\n",
      "ID\n",
      "hola\n",
      "COLON\n",
      "hola\n",
      "TYPE\n",
      "hola\n",
      "RPAREN\n",
      "hola\n",
      "LBRACE\n",
      "hola\n",
      "LET\n",
      "hola\n",
      "ID\n",
      "hola\n",
      "COLON\n",
      "hola\n",
      "TYPE\n",
      "hola\n",
      "OPERATOR\n",
      "hola\n",
      "INTEGER\n",
      "hola\n",
      "SEMICOLON\n",
      "hola\n",
      "ENTRY\n",
      "hola\n",
      "ID\n",
      "hola\n",
      "LPAREN\n",
      "hola\n",
      "ID\n",
      "hola\n",
      "COLON\n",
      "hola\n",
      "TYPE\n",
      "hola\n",
      "RPAREN\n",
      "hola\n",
      "LBRACE\n",
      "hola\n",
      "ID\n",
      "hola\n",
      "OPERATOR\n",
      "hola\n",
      "ID\n",
      "hola\n",
      "SEMICOLON\n",
      "hola\n",
      "RBRACE\n",
      "hola\n",
      "RBRACE\n"
     ]
    },
    {
     "data": {
      "text/plain": [
       "['contract',\n",
       " 'id',\n",
       " '(',\n",
       " 'id',\n",
       " ':',\n",
       " 'type',\n",
       " ')',\n",
       " '{',\n",
       " 'let',\n",
       " 'id',\n",
       " ':',\n",
       " 'type',\n",
       " '=',\n",
       " 'num',\n",
       " ';',\n",
       " 'entry',\n",
       " 'id',\n",
       " '(',\n",
       " 'id',\n",
       " ':',\n",
       " 'type',\n",
       " ')',\n",
       " '{',\n",
       " 'id',\n",
       " '=',\n",
       " 'id',\n",
       " ';',\n",
       " '}',\n",
       " '}']"
      ]
     },
     "execution_count": 9,
     "metadata": {},
     "output_type": "execute_result"
    }
   ],
   "source": [
    "from lexer.sly_lexer import TzScriptLexer\n",
    "from parser.tzscript_grammar import TZSCRIPT_GRAMMAR,idx, num, typex, contract, ifx, elsex,equal, plus, minus, star, div,semi, colon, comma, dot, opar, cpar, ocur, ccur,let, func,entry\n",
    "from lexer.lex_token import Token\n",
    "\n",
    "hello_world = '''\n",
    "    contract store_value(value: int){\n",
    "\n",
    "    let storage: int = 0;\n",
    "\n",
    "    entry replace(new_value: int){\n",
    "       \n",
    "        storage = new_value;\n",
    "    } \n",
    "}\n",
    "'''\n",
    "lexer = TzScriptLexer()\n",
    "\n",
    "tokens = list(lexer.tokenize(hello_world))\n",
    "print('tokens, ', tokens)\n",
    "expected_tokens = [Token('contract', contract),Token('store_value',idx),Token('(',opar),Token('value',idx),Token(':',colon),Token('int',typex),Token(')',cpar),Token('{',ocur),Token('let',let),Token('storage',idx),Token(':',colon),Token('int',typex),Token('=',equal),Token('0',num),Token(';',semi),Token('entry',entry),Token('replace',idx),Token('(',opar),Token('new_value',idx),Token(':',colon),Token('int',typex),Token(')',cpar),Token('{',ocur),Token('storage',idx),Token('=',equal),Token('new_value',idx),Token(';',semi),Token('}',ccur),Token('}',ccur),Token('EOF',TZSCRIPT_GRAMMAR.EOF)]\n",
    "expected_lexes = [t.lex for t in expected_tokens if t.token_type != TZSCRIPT_GRAMMAR.EOF]\n",
    "expected_terminals = [t.token_type for t in expected_tokens if t.token_type != TZSCRIPT_GRAMMAR.EOF]\n",
    "lexes = [t.value for t in tokens]\n",
    "map_to_terminals_names = {'CONTRACT': contract.Name, 'ID': idx.Name, 'COLON': colon.Name, 'SEMICOLON': semi.Name, 'COMMA': comma.Name, 'INTEGER': num.Name, 'LPAREN': opar.Name, 'RPAREN': cpar.Name, 'LBRACE': ocur.Name, 'RBRACE': ccur.Name, 'LBRACKET': opar.Name, 'RBRACKET': cpar.Name, 'OR': plus.Name, 'AND': star.Name, 'OPERATOR': equal.Name, 'TERMINAL': typex.Name, 'NONTERMINAL': idx.Name, 'ENTRY': entry.Name, 'FUNC': func.Name, 'LET': let.Name, 'IF': ifx.Name, 'ELSE': elsex.Name, 'TYPE': typex.Name, 'STRING': typex.Name, 'NAT': typex.Name, 'INT': typex.Name, 'OPTIONAL': typex.Name, 'BOOL': typex.Name}\n",
    "terminals_names = []\n",
    "for token in tokens:\n",
    "    print('hola')\n",
    "    print(token.type)\n",
    "    terminals_names.append(map_to_terminals_names[token.type])\n",
    "\n",
    "terminals = [TZSCRIPT_GRAMMAR[t] for t in terminals_names]\n",
    "assert lexes == expected_lexes\n",
    "assert terminals == expected_terminals\n",
    "terminals"
   ]
  },
  {
   "cell_type": "code",
   "execution_count": 2,
   "metadata": {},
   "outputs": [],
   "source": [
    "for x in tokens:\n",
    "    print(x)\n",
    "    print(type(x))"
   ]
  },
  {
   "cell_type": "code",
   "execution_count": 6,
   "metadata": {},
   "outputs": [
    {
     "data": {
      "text/plain": [
       "['contract',\n",
       " 'id',\n",
       " '(',\n",
       " 'id',\n",
       " ':',\n",
       " 'type',\n",
       " ')',\n",
       " '{',\n",
       " 'let',\n",
       " 'id',\n",
       " ':',\n",
       " 'type',\n",
       " '=',\n",
       " 'num',\n",
       " ';',\n",
       " 'entry',\n",
       " 'id',\n",
       " '(',\n",
       " 'id',\n",
       " ':',\n",
       " 'type',\n",
       " ')',\n",
       " '{',\n",
       " 'id',\n",
       " '=',\n",
       " 'id',\n",
       " ';',\n",
       " '}',\n",
       " '}']"
      ]
     },
     "execution_count": 6,
     "metadata": {},
     "output_type": "execute_result"
    }
   ],
   "source": [
    "terminals"
   ]
  },
  {
   "cell_type": "code",
   "execution_count": 8,
   "metadata": {},
   "outputs": [
    {
     "data": {
      "text/plain": [
       "['contract',\n",
       " 'id',\n",
       " '(',\n",
       " 'id',\n",
       " ':',\n",
       " 'type',\n",
       " ')',\n",
       " '{',\n",
       " 'let',\n",
       " 'id',\n",
       " ':',\n",
       " 'type',\n",
       " '=',\n",
       " 'num',\n",
       " ';',\n",
       " 'entry',\n",
       " 'id',\n",
       " '(',\n",
       " 'id',\n",
       " ':',\n",
       " 'type',\n",
       " ')',\n",
       " '{',\n",
       " 'id',\n",
       " '=',\n",
       " 'id',\n",
       " ';',\n",
       " '}',\n",
       " '}']"
      ]
     },
     "execution_count": 8,
     "metadata": {},
     "output_type": "execute_result"
    }
   ],
   "source": [
    "expected_terminals"
   ]
  },
  {
   "cell_type": "code",
   "execution_count": null,
   "metadata": {},
   "outputs": [],
   "source": []
  }
 ],
 "metadata": {
  "kernelspec": {
   "display_name": "Python 3.11.1 64-bit",
   "language": "python",
   "name": "python3"
  },
  "language_info": {
   "codemirror_mode": {
    "name": "ipython",
    "version": 3
   },
   "file_extension": ".py",
   "mimetype": "text/x-python",
   "name": "python",
   "nbconvert_exporter": "python",
   "pygments_lexer": "ipython3",
   "version": "3.11.1"
  },
  "orig_nbformat": 4,
  "vscode": {
   "interpreter": {
    "hash": "e7370f93d1d0cde622a1f8e1c04877d8463912d04d973331ad4851f04de6915a"
   }
  }
 },
 "nbformat": 4,
 "nbformat_minor": 2
}
